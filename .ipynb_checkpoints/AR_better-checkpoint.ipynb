{
 "cells": [
  {
   "cell_type": "code",
   "execution_count": 1,
   "id": "6d1018c6",
   "metadata": {},
   "outputs": [],
   "source": [
    "import numpy as np\n",
    "import matplotlib.pyplot as plt\n",
    "import pickle\n",
    "import pandas as pd\n",
    "import scipy.stats\n",
    "from discrete_methods import *\n",
    "from continuous_methods import *\n",
    "import multiprocessing"
   ]
  },
  {
   "cell_type": "code",
   "execution_count": null,
   "id": "a9fcc7cf",
   "metadata": {},
   "outputs": [],
   "source": [
    "ar_cdel=ARProcess2d([0.01,0.01,0.1],corr=0)\n",
    "Nsim=100000\n",
    "Ntest=10000\n",
    "ar_dat=np.exp(ar_cdel.simulate(Nsim))\n",
    "ar_test=np.exp(ar_cdel.simulate(Ntest))\n"
   ]
  },
  {
   "cell_type": "code",
   "execution_count": null,
   "id": "64eb4a46",
   "metadata": {},
   "outputs": [],
   "source": [
    "ar_dat"
   ]
  },
  {
   "cell_type": "code",
   "execution_count": null,
   "id": "300c43ff",
   "metadata": {},
   "outputs": [],
   "source": [
    "ar_cdel.transition_matrix(1e-3)"
   ]
  },
  {
   "cell_type": "code",
   "execution_count": 4,
   "id": "e9dfeed7",
   "metadata": {},
   "outputs": [
    {
     "ename": "KeyError",
     "evalue": "'[0.96, 0.96, 0.96, 0.97]+[0.96, 0.96, 0.96, 0.96]'",
     "output_type": "error",
     "traceback": [
      "\u001b[1;31m---------------------------------------------------------------------------\u001b[0m",
      "\u001b[1;31mKeyError\u001b[0m                                  Traceback (most recent call last)",
      "\u001b[1;32m<ipython-input-4-8222ff561a9b>\u001b[0m in \u001b[0;36m<module>\u001b[1;34m\u001b[0m\n\u001b[1;32m----> 1\u001b[1;33m \u001b[0mtrue_qval_ar\u001b[0m\u001b[1;33m=\u001b[0m\u001b[0mar_cdel\u001b[0m\u001b[1;33m.\u001b[0m\u001b[0mdiscrete_true_qval\u001b[0m\u001b[1;33m(\u001b[0m\u001b[1;36m1e-3\u001b[0m\u001b[1;33m)\u001b[0m\u001b[1;33m\u001b[0m\u001b[1;33m\u001b[0m\u001b[0m\n\u001b[0m",
      "\u001b[1;32m~\\Desktop\\ReinforcementLearning\\Programming\\RL_master\\finance_application\\continuous_methods.py\u001b[0m in \u001b[0;36mdiscrete_true_qval\u001b[1;34m(self, delta, min_val, max_val, rounding, Q0)\u001b[0m\n\u001b[0;32m    272\u001b[0m                                         \u001b[0mnext_state\u001b[0m\u001b[1;33m=\u001b[0m\u001b[0mstr\u001b[0m\u001b[1;33m(\u001b[0m\u001b[0mself\u001b[0m\u001b[1;33m.\u001b[0m\u001b[0mstate_as_list\u001b[0m\u001b[1;33m(\u001b[0m\u001b[0mnp\u001b[0m\u001b[1;33m.\u001b[0m\u001b[0marray\u001b[0m\u001b[1;33m(\u001b[0m\u001b[1;33m[\u001b[0m\u001b[1;33m[\u001b[0m\u001b[0ms1_2\u001b[0m\u001b[1;33m,\u001b[0m\u001b[0ms1_next\u001b[0m\u001b[1;33m]\u001b[0m\u001b[1;33m,\u001b[0m\u001b[1;33m[\u001b[0m\u001b[0ms2_1\u001b[0m\u001b[1;33m,\u001b[0m\u001b[0ms2_next\u001b[0m\u001b[1;33m]\u001b[0m\u001b[1;33m]\u001b[0m\u001b[1;33m)\u001b[0m\u001b[1;33m)\u001b[0m\u001b[1;33m)\u001b[0m\u001b[1;33m\u001b[0m\u001b[1;33m\u001b[0m\u001b[0m\n\u001b[0;32m    273\u001b[0m                                         \u001b[0mstate_trans\u001b[0m \u001b[1;33m=\u001b[0m \u001b[0mcurrent_state\u001b[0m \u001b[1;33m+\u001b[0m \u001b[1;34m'+'\u001b[0m \u001b[1;33m+\u001b[0m \u001b[0mnext_state\u001b[0m\u001b[1;33m\u001b[0m\u001b[1;33m\u001b[0m\u001b[0m\n\u001b[1;32m--> 274\u001b[1;33m                                         \u001b[0mtemp_proba\u001b[0m \u001b[1;33m=\u001b[0m \u001b[0mtrans_proba\u001b[0m\u001b[1;33m[\u001b[0m\u001b[0mstate_trans\u001b[0m\u001b[1;33m]\u001b[0m\u001b[1;33m\u001b[0m\u001b[1;33m\u001b[0m\u001b[0m\n\u001b[0m\u001b[0;32m    275\u001b[0m                                         true_qval[current_state] += temp_proba * (np.array(\n\u001b[0;32m    276\u001b[0m                                             \u001b[1;33m[\u001b[0m\u001b[0mreward\u001b[0m\u001b[1;33m(\u001b[0m\u001b[0maction\u001b[0m\u001b[1;33m,\u001b[0m \u001b[0mnp\u001b[0m\u001b[1;33m.\u001b[0m\u001b[0marray\u001b[0m\u001b[1;33m(\u001b[0m\u001b[1;33m[\u001b[0m\u001b[1;33m[\u001b[0m\u001b[0ms1_next\u001b[0m\u001b[1;33m]\u001b[0m\u001b[1;33m,\u001b[0m \u001b[1;33m[\u001b[0m\u001b[0ms2_next\u001b[0m\u001b[1;33m]\u001b[0m\u001b[1;33m]\u001b[0m\u001b[1;33m)\u001b[0m\u001b[1;33m)\u001b[0m\u001b[1;33m[\u001b[0m\u001b[1;36m0\u001b[0m\u001b[1;33m,\u001b[0m \u001b[1;36m0\u001b[0m\u001b[1;33m]\u001b[0m \u001b[1;32mfor\u001b[0m \u001b[0maction\u001b[0m \u001b[1;32min\u001b[0m \u001b[0mrange\u001b[0m\u001b[1;33m(\u001b[0m\u001b[1;36m11\u001b[0m\u001b[1;33m)\u001b[0m\u001b[1;33m]\u001b[0m\u001b[1;33m)\u001b[0m \u001b[1;33m+\u001b[0m \u001b[0mself\u001b[0m\u001b[1;33m.\u001b[0m\u001b[0mgamma\u001b[0m \u001b[1;33m*\u001b[0m \u001b[0mnp\u001b[0m\u001b[1;33m.\u001b[0m\u001b[0mmax\u001b[0m\u001b[1;33m(\u001b[0m\u001b[1;33m\u001b[0m\u001b[1;33m\u001b[0m\u001b[0m\n",
      "\u001b[1;31mKeyError\u001b[0m: '[0.96, 0.96, 0.96, 0.97]+[0.96, 0.96, 0.96, 0.96]'"
     ]
    }
   ],
   "source": [
    "true_qval_ar=ar_cdel.discrete_true_qval(1e-3)"
   ]
  },
  {
   "cell_type": "code",
   "execution_count": null,
   "id": "fa90a968",
   "metadata": {},
   "outputs": [],
   "source": [
    "for k in true_qval_ar.keys():\n",
    "    print(k, ' Optimal action : ', np.argmax(true_qval_ar[k]))"
   ]
  },
  {
   "cell_type": "code",
   "execution_count": null,
   "id": "a6b45082",
   "metadata": {},
   "outputs": [],
   "source": [
    "w=exploit_optimal(true_qval_ar, discretize(ar_test),window=2)"
   ]
  },
  {
   "cell_type": "code",
   "execution_count": null,
   "id": "0dec85cb",
   "metadata": {},
   "outputs": [],
   "source": [
    "ret = np.dot( w, ar_test)"
   ]
  },
  {
   "cell_type": "code",
   "execution_count": null,
   "id": "e5545a4c",
   "metadata": {},
   "outputs": [],
   "source": [
    "plt.plot(np.cumprod(ar_test[0,:]))\n",
    "plt.plot(n)"
   ]
  }
 ],
 "metadata": {
  "kernelspec": {
   "display_name": "Python 3",
   "language": "python",
   "name": "python3"
  },
  "language_info": {
   "codemirror_mode": {
    "name": "ipython",
    "version": 3
   },
   "file_extension": ".py",
   "mimetype": "text/x-python",
   "name": "python",
   "nbconvert_exporter": "python",
   "pygments_lexer": "ipython3",
   "version": "3.7.15"
  }
 },
 "nbformat": 4,
 "nbformat_minor": 5
}
